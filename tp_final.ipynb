{
 "cells": [
  {
   "cell_type": "markdown",
   "metadata": {},
   "source": [
    "# Trabajo práctico final - NLP\n",
    "\n",
    "## Alumno: Garay Gorta, Isaías."
   ]
  },
  {
   "cell_type": "markdown",
   "metadata": {},
   "source": [
    "# Ejercicio 1 - RAG\n",
    "\n",
    "Crear un chatbot experto en un tema a elección, usando la técnica RAG (Retrieval Augmented Generation).\n",
    "Como fuentes de conocimiento se utilizarán al menos las siguientes fuentes:\n",
    "- Documentos de texto\n",
    "- Datos numéricos en formato tabular (por ej., Dataframes, CSV, sqlite, etc.)\n",
    "- Base de datos de grafos (Online o local)\n",
    "\n",
    "El sistema debe poder llevar a cabo una conversación en lenguaje español. El usuario podrá hacer preguntas, que el chatbot intentará responder a partir de datos de algunas de sus fuentes. El asistente debe poder clasificar las preguntas, para saber qué fuentes de datos utilizar como contexto para generar una respuesta."
   ]
  },
  {
   "cell_type": "code",
   "execution_count": null,
   "metadata": {
    "vscode": {
     "languageId": "plaintext"
    }
   },
   "outputs": [],
   "source": []
  }
 ],
 "metadata": {
  "language_info": {
   "name": "python"
  }
 },
 "nbformat": 4,
 "nbformat_minor": 2
}
